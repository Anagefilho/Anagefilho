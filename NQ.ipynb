{
  "nbformat": 4,
  "nbformat_minor": 0,
  "metadata": {
    "colab": {
      "provenance": [],
      "collapsed_sections": [],
      "authorship_tag": "ABX9TyOTVeIss1MNLt2GN+8iSS/2",
      "include_colab_link": true
    },
    "kernelspec": {
      "name": "python3",
      "display_name": "Python 3"
    },
    "language_info": {
      "name": "python"
    }
  },
  "cells": [
    {
      "cell_type": "markdown",
      "metadata": {
        "id": "view-in-github",
        "colab_type": "text"
      },
      "source": [
        "<a href=\"https://colab.research.google.com/github/Anagefilho/Anagefilho/blob/main/NQ.ipynb\" target=\"_parent\"><img src=\"https://colab.research.google.com/assets/colab-badge.svg\" alt=\"Open In Colab\"/></a>"
      ]
    },
    {
      "cell_type": "markdown",
      "source": [
        "#Fitness, anotando quando as rainhas se colidem em cada indivíduo."
      ],
      "metadata": {
        "id": "rgte0vux25oV"
      }
    },
    {
      "cell_type": "code",
      "source": [
        "def fitnessScore(pop,new_pop):\n",
        "    fit = np.zeros([pop[:,1].size, 1],dtype=int) #Criação da array do fit do tamanho da população, a matriz contém 1 coluna com pop.size linhas.\n",
        "    colide_diagonal = 0\n",
        "    colide_linha = 0\n",
        "\n",
        "    for i in range(new_pop): #for para passar em toda população atual.\n",
        "        colide_linha = len(pop[i]) - len(np.unique(pop[i])) # se existir números iguais na linha as rainhas estão se colidindo horizontalmente.\n",
        "\n",
        "        x = pop[i]\n",
        "        colide_diagonal = 0\n",
        "\n",
        "        for k in range(len(x)): # k é criado para comparar a posição da peça atual com todas peças do tabuleiro.\n",
        "\n",
        "          for j in range(len(x)): # j criado para ser comparado com k\n",
        "              if j != k:\n",
        "                delta_x = abs(k - j) # diferença das colunas da peça atual k com as outras peças j\n",
        "                delta_y = abs(x[k] - x[j]) # diferença entre peça atual x[k] com as outras do tabuleiro x[j]\n",
        "\n",
        "                if(delta_x == delta_y): # quando as diferenças entre as colunas (delta_x) e a diferença entre as linhas são = 0, temos uma colisão diagonal. \n",
        "                  colide_diagonal += 1\n",
        "\n",
        "          fit[i,0] = colide_linha + colide_diagonal\n",
        "\n",
        "    return fit\n",
        "\n",
        "def board(pop, n): # Desenha o tabuleiro\n",
        "    board = np.zeros((n,n,3))\n",
        "    board += 0.5 # Inicializa o tabuleiro com cor preta em todas as casas da matriz\n",
        "    board[::2, ::2] = 1 # Cor branca de 2 em 2\n",
        "    #board[1::2, 1::2] = 1 # Cor branca\n",
        "\n",
        "    positions = pop[0,:n-1] # A melhor população\n",
        "\n",
        "    fig, ax = plt.subplots()\n",
        "    ax.imshow(board, interpolation='nearest')\n",
        "\n",
        "    \n",
        "\n",
        "    for y, x in enumerate(positions):\n",
        "        ax.text(x, y, u'\\u2655', size=15, ha='center', va='center')\n",
        "\n",
        "    ax.set(xticks=[], yticks=[])\n",
        "    ax.axis('image')\n",
        "    \n",
        "    plt.show()"
      ],
      "metadata": {
        "id": "HkWUeCG625FA"
      },
      "execution_count": 113,
      "outputs": []
    },
    {
      "cell_type": "markdown",
      "source": [
        "#Crossover, cruzando os melhores pais de cada geração"
      ],
      "metadata": {
        "id": "DgXQBbjN3Chy"
      }
    },
    {
      "cell_type": "code",
      "source": [
        "#Cruzamento \n",
        "def crossover_single_x(pai1, pai2):\n",
        "    filho1 = np.zeros([len(pai1)],dtype=int) #Inicia filhos\n",
        "    filho2 = np.zeros([len(pai2)], dtype=int)\n",
        "    x = random.randint(0, n)\n",
        "\n",
        "    p11 = pai1[0:x]\n",
        "    p12 = pai1[x:n]\n",
        "    p21 = pai2[0:x]\n",
        "    p22 = pai2[x:n]\n",
        "    \n",
        "    filho1 = np.hstack([p11,p22])\n",
        "    filho2 = np.hstack([p21,p12])\n",
        "    \n",
        "    filho1 = Mutation(filho1) #Aplicando a mutação\n",
        "    filho2 = Mutation(filho2)\n",
        "    \n",
        "    filhos = np.vstack([filho1,filho2])\n",
        "    return filhos\n",
        "\n",
        "def crossover_varios_x(pai1, pai2):\n",
        "    filho1 = np.zeros([len(pai1)],dtype=int) #Inicia filhos\n",
        "    filho2 = np.zeros([len(pai2)], dtype=int)\n",
        "    x = int(n/4)\n",
        "    y = int(n/2)\n",
        "    \n",
        "    p11 = pai1[0:x]\n",
        "    p1m = pai1[x:y]\n",
        "    p1m2 = pai1[y:x+y]\n",
        "    p12 = pai1[x+y:n]\n",
        "\n",
        "    p21 = pai2[0:x]\n",
        "    p2m = pai2[x:y]\n",
        "    p2m2 = pai2[y:x+y]\n",
        "    p22 = pai2[x+y:n]\n",
        "\n",
        "    filho1 = np.concatenate([p11,p2m,p2m2,p12])\n",
        "    filho2 = np.concatenate([p21,p1m,p1m2,p22])\n",
        "    \n",
        "    filho1 = Mutation(filho1) #Aplicando a mutação \n",
        "    filho2 = Mutation(filho2)\n",
        "    \n",
        "    filhos = np.vstack([filho1,filho2])\n",
        "    return filhos\n",
        "\n",
        "\n",
        "def crossover(pai1, pai2):\n",
        "    filho1 = np.zeros([len(pai1)],dtype=int) #Inicia filhos\n",
        "    filho2 = np.zeros([len(pai2)], dtype=int)\n",
        "    l = int(n/2*1.5) #Ponto de crossover \n",
        "    \n",
        "    p11 = pai1[0:l]\n",
        "    p12 = pai1[l:n]\n",
        "    p21 = pai2[0:l]\n",
        "    p22 = pai2[l:n]\n",
        "    \n",
        "    filho1 = np.hstack([p11,p22])\n",
        "    filho2 = np.hstack([p21,p12])\n",
        "    \n",
        "    filho1 = duoMutation(filho1) #Aplicando a mutação \n",
        "    filho2 = duoMutation(filho2)\n",
        "    \n",
        "    filhos = np.vstack([filho1,filho2])\n",
        "    print(filhos)\n",
        "    return filhos\n",
        "\n",
        "#Mutação\n",
        "\n",
        "def Mutation(child, mutation_prob=.20): #probabilidade de mutação de 80% para dar mais diversividade ao modelo\n",
        "      if(random.random() > mutation_prob):\n",
        "        ind = np.random.choice(len(child), 4, replace=False)\n",
        "        temp = child[ind[0]]\n",
        "        child[ind[0]] = child[ind[1]]\n",
        "        child[ind[1]] = temp\n",
        "        return child       \n",
        "\n",
        "      else:\n",
        "        return child\n",
        "\n",
        "def duoMutation(child, mutation_prob=.40): #probabilidade de mutação de 60% para dar mais diversividade ao modelo, porém tem a chance de ocorrer mutação dupla.\n",
        "      if(random.random() > mutation_prob):\n",
        "        ind = np.random.choice(len(child), 4, replace=False)\n",
        "        temp = child[ind[0]]\n",
        "        child[ind[0]] = child[ind[1]]\n",
        "        child[ind[1]] = temp\n",
        "        return child       \n",
        "\n",
        "      elif (random.random() > 0.8):\n",
        "        ind = np.random.choice(len(child), 4, replace=False)\n",
        "        temp = child[ind[0]]\n",
        "        temp2 = child[ind[2]]\n",
        "\n",
        "        child[ind[0]] = child[ind[1]]\n",
        "        child[ind[1]] = temp\n",
        "        child[ind[2]] = temp2\n",
        "        return child\n"
      ],
      "metadata": {
        "id": "xHPUE6yhrsPE"
      },
      "execution_count": 114,
      "outputs": []
    },
    {
      "cell_type": "markdown",
      "source": [
        "#Seleção dos melhores pais da população"
      ],
      "metadata": {
        "id": "jhjnlk_yVAyg"
      }
    },
    {
      "cell_type": "code",
      "source": [
        "#Avaliação, checa fitness\n",
        "def selecao_ranking(pop, new_pop):\n",
        "    pop = pop[pop[:,n].argsort()][0:new_pop, :] #retorna uma lista com a população ordenada pelo fitting score\n",
        "    return pop[0],pop[1] #pegamos os 2 melhores pais da população atual.\n"
      ],
      "metadata": {
        "id": "ULoh4cNxU_24"
      },
      "execution_count": 115,
      "outputs": []
    },
    {
      "cell_type": "markdown",
      "source": [
        "#Inicialização e looping"
      ],
      "metadata": {
        "id": "2CqhQrpmU6UG"
      }
    },
    {
      "cell_type": "code",
      "source": [
        "import sys\n",
        "import random\n",
        "import numpy as np \n",
        "import matplotlib.pyplot as plt\n",
        "\n",
        "#Roteiro para criação do algoritmo genético\n",
        "#Representação\n",
        "#Representação por exemplo: 8 rainhas, [1 4 3 6 2 7 5 0]\n",
        "\n",
        "# Nesse caso a fitness = número de rainhas se conflitando.  \n",
        "\"\"\" \n",
        "    k = 0, j = 2\n",
        "    0 - 2 = 2 \n",
        "    x[k] - x[j]\n",
        "    1 - 3 = 2\n",
        "    colide diagonal += 1\n",
        "\n",
        "    k = 1, j = 2\n",
        "    1 - 2 = 1\n",
        "    x[k] - x[j]\n",
        "    4 - 3 = 1\n",
        "    colide diagonal += 1\n",
        "\n",
        "    k = 1, j = 3 \n",
        "    1 - 3 = 2\n",
        "    x[k] = 4, x[j] = 6\n",
        "    4 - 6 = 2\n",
        "    colide diagonal += 1\n",
        "\n",
        "    fitness score = 3 nesse indivíduo.\n",
        "\n",
        "   0 1 2 3 4 5 6 7 \n",
        "0 [0 0 0 0 0 0 0 X ] \n",
        "1 [X 0 0 0 0 0 0 0 ]\n",
        "2 [0 0 0 0 X 0 0 0 ]\n",
        "3 [0 0 X 0 0 0 0 0 ]\n",
        "4 [0 X 0 0 0 0 0 0 ]\n",
        "5 [0 0 0 0 0 0 X 0 ]\n",
        "6 [0 0 0 X 0 0 0 0 ]\n",
        "7 [0 0 0 0 0 X 0 0 ]\n",
        "\"\"\"\n",
        "#Inicialização\n",
        "print(\"Digite o número de rainhas: \")\n",
        "n = int(input())\n",
        "print(\"Número da população: \")\n",
        "new_pop = int(input())\n",
        "print(\"Número de gerações: \")\n",
        "generation = int(input())\n",
        "\n",
        "pop = np.zeros([new_pop,n],dtype=int)\n",
        "\n",
        "for i in range(new_pop):\n",
        "    pop[i, :] = np.random.permutation(n) #Inicialização da população com permutações dos númeoros de 0 até n.\n",
        "print(pop)\n",
        "\n",
        "  \n",
        "fit = fitnessScore(pop,new_pop) # calcula de todos da população atual\n",
        "\n",
        "pop = np.hstack([pop,fit]) # adiciona na ultima linha os valores de fitness de cada indivíduo da população.\n",
        "\n",
        "pop = pop[pop[:,n].argsort()][0:new_pop, :]\n",
        "\n",
        "#Loop\n",
        "\n",
        "for gen in range(generation):\n",
        "    \n",
        "    pai1, pai2 = selecao_ranking(pop, new_pop) #Seleção dos pais por meio de ranking\n",
        "\n",
        "    filhos = crossover_varios_x(pai1, pai2) # Crossover e mutação\n",
        "    #print(filhos)\n",
        "    fit_filhos = fitnessScore(filhos,2)\n",
        "\n",
        "    filhos = np.hstack([filhos,fit_filhos])\n",
        "\n",
        "    #print(filhos)\n",
        "    pop = np.vstack([pop,filhos]) # Reinserção\n",
        "\n",
        "    pop = pop[pop[:,n].argsort()][0:new_pop, :] # Atualiza pop pegando os melhores individuos\n",
        "\n",
        "    result = pop[0][n]\n",
        "\n",
        "    for i in range(new_pop): # Avaliação da população e vendo se algum indivíduo encontrou a solução ótima\n",
        "      if pop[i][n] == 0:\n",
        "        print(\"Solução ótima encontrada!!\")\n",
        "        print(\"Número de rainhas: \", n)\n",
        "        print(\"Número de gerações p/ encontrar geração ótima: \", gen)\n",
        "        print(\"Melhor solução: \", pop[0, 0:n])\n",
        "        print(\"Número de conflitos: \", pop[i][n], result)\n",
        "        board(pop)\n",
        "        sys.exit()\n",
        "\n",
        "#Caso não tenha encontrado \n",
        "print(\"Número de rainhas: \", n)\n",
        "print(\"Não conseguiu achar a soluçãoa ótima, a melhor foi:\")\n",
        "print(\"Número de gerações: \", gen)\n",
        "print(\"Melhor solução: \", pop[0, 0:n])\n",
        "print(\"Número de conflitos: \", result)\n",
        "board(pop, n) #figura\n",
        "\n",
        "#Seleção\n",
        "\n",
        "#Avaliação\n",
        "\n",
        "#Reinserção\n"
      ],
      "metadata": {
        "id": "9m-FIRLsrIi0",
        "colab": {
          "base_uri": "https://localhost:8080/",
          "height": 339
        },
        "outputId": "fb0a8c2d-6c27-4dd8-e696-b3bca2d29fff"
      },
      "execution_count": 120,
      "outputs": [
        {
          "output_type": "stream",
          "name": "stdout",
          "text": [
            "Número de rainhas:  10\n",
            "Não conseguiu achar a soluçãoa ótima, a melhor foi:\n",
            "Número de gerações:  998\n",
            "Melhor solução:  [7 2 6 8 0 1 4 9 5 3]\n",
            "Número de conflitos:  2\n"
          ]
        },
        {
          "output_type": "display_data",
          "data": {
            "text/plain": [
              "<Figure size 432x288 with 1 Axes>"
            ],
            "image/png": "[encoded data removed]"
          },
          "metadata": {}
        }
      ]
    }
  ]
}