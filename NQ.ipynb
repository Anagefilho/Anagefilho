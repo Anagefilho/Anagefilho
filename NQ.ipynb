{
  "nbformat": 4,
  "nbformat_minor": 0,
  "metadata": {
    "colab": {
      "provenance": [],
      "collapsed_sections": [],
      "authorship_tag": "ABX9TyPG5JZMjN8zfaQ2nIzADb4d",
      "include_colab_link": true
    },
    "kernelspec": {
      "name": "python3",
      "display_name": "Python 3"
    },
    "language_info": {
      "name": "python"
    }
  },
  "cells": [
    {
      "cell_type": "markdown",
      "metadata": {
        "id": "view-in-github",
        "colab_type": "text"
      },
      "source": [
        "<a href=\"https://colab.research.google.com/github/Anagefilho/Anagefilho/blob/main/NQ.ipynb\" target=\"_parent\"><img src=\"https://colab.research.google.com/assets/colab-badge.svg\" alt=\"Open In Colab\"/></a>"
      ]
    },
    {
      "cell_type": "markdown",
      "source": [
        "#Fitness, anotando quanto as rainhas se colidem horizontalmente e verticalmente em cada indivíduo."
      ],
      "metadata": {
        "id": "rgte0vux25oV"
      }
    },
    {
      "cell_type": "code",
      "source": [
        "def fitnessScore(pop,new_pop):\n",
        "    if pop.size > n: #Caso normal\n",
        "      fit = np.zeros([pop[:,1].size, 1],dtype=int) #Criação da array do fit do tamanho da população, a matriz contém 1 coluna com pop.size linhas.\n",
        "      colide_diagonal = 0\n",
        "      colide_linha = 0\n",
        "\n",
        "      for i in range(new_pop): #for para passar em toda população atual.\n",
        "          colide_linha = len(pop[i]) - len(np.unique(pop[i])) # se existir números iguais na linha as rainhas estão se colidindo horizontalmente.\n",
        "\n",
        "          x = pop[i]\n",
        "          colide_diagonal = 0\n",
        "\n",
        "          for k in range(len(x)): # k é criado para comparar a posição da peça atual com todas peças do tabuleiro.\n",
        "\n",
        "            for j in range(len(x)): # j criado para ser comparado com k\n",
        "                if j != k:\n",
        "                  delta_x = abs(k - j) # diferença das colunas da peça atual k com as outras peças j\n",
        "                  delta_y = abs(x[k] - x[j]) # diferença entre peça atual x[k] com as outras do tabuleiro x[j], diferença das linhas de cada rainha\n",
        "\n",
        "                  if(delta_x == delta_y): # quando as diferenças entre as colunas (delta_x) e a diferença entre as linhas são iguais temos uma colisão diagonal. \n",
        "                    colide_diagonal += 1\n",
        "\n",
        "            fit[i,0] = colide_linha + colide_diagonal\n",
        "\n",
        "    if pop.size == n:  # Caso do indivíduo aleatório    \n",
        "      fit = np.zeros(1)\n",
        "      colide_linha = len(pop) - len(np.unique(pop)) # se existir números iguais na linha as rainhas estão se colidindo horizontalmente.\n",
        "      x = pop\n",
        "      colide_diagonal = 0\n",
        "      for k in range(len(x)): # k é criado para comparar a posição da peça atual com todas peças do tabuleiro.\n",
        "\n",
        "            for j in range(len(x)): # j criado para ser comparado com k\n",
        "                if j != k:\n",
        "                  delta_x = abs(k - j) # diferença das colunas da peça atual k com as outras peças j\n",
        "                  delta_y = abs(x[k] - x[j]) # diferença entre peça atual x[k] com as outras do tabuleiro x[j], diferença das linhas de cada rainha\n",
        "\n",
        "                  if(delta_x == delta_y): # quando as diferenças entre as colunas (delta_x) e a diferença entre as linhas são iguais temos uma colisão diagonal. \n",
        "                    colide_diagonal += 1\n",
        "      return colide_diagonal+colide_linha\n",
        "\n",
        "    return fit"
      ],
      "metadata": {
        "id": "HkWUeCG625FA"
      },
      "execution_count": 4,
      "outputs": []
    },
    {
      "cell_type": "markdown",
      "source": [
        "#Crossover simples e de dois pontos"
      ],
      "metadata": {
        "id": "DgXQBbjN3Chy"
      }
    },
    {
      "cell_type": "code",
      "source": [
        "#Cruzamento \n",
        "def crossoverX(pai1, pai2):\n",
        "    filho1 = np.zeros([len(pai1)],dtype=int) #Inicia filhos\n",
        "    filho2 = np.zeros([len(pai2)], dtype=int)\n",
        "    x = random.randint(0, n)\n",
        "\n",
        "    p11 = pai1[0:x]\n",
        "    p12 = pai1[x:n]\n",
        "    p21 = pai2[0:x]\n",
        "    p22 = pai2[x:n]\n",
        "    \n",
        "    filho1 = np.hstack([p11,p22])\n",
        "    filho2 = np.hstack([p21,p12])\n",
        "    \n",
        "    filho1 = Mutacao(filho1) #Aplicando a mutação\n",
        "    filho2 = Mutacao(filho2)\n",
        "    \n",
        "    filhos = np.vstack([filho1,filho2])\n",
        "    return filhos\n",
        "\n",
        "def crossover2X(pai1, pai2):\n",
        "    filho1 = np.zeros([len(pai1)],dtype=int) #Inicia filhos\n",
        "    filho2 = np.zeros([len(pai2)], dtype=int)\n",
        "    x = int(n/4)\n",
        "    y = int(n/2)\n",
        "    \n",
        "    p11 = pai1[0:x]\n",
        "    p1m = pai1[x:y]\n",
        "    p1m2 = pai1[y:x+y]\n",
        "    p12 = pai1[x+y:n]\n",
        "\n",
        "    p21 = pai2[0:x]\n",
        "    p2m = pai2[x:y]\n",
        "    p2m2 = pai2[y:x+y]\n",
        "    p22 = pai2[x+y:n]\n",
        "\n",
        "    filho1 = np.concatenate([p11,p2m,p2m2,p12])\n",
        "    filho2 = np.concatenate([p21,p1m,p1m2,p22])\n",
        "    \n",
        "    filho1 = MutacaoDupla(filho1) #Aplicando a mutação dupla \n",
        "    filho2 = MutacaoDupla(filho2)\n",
        "    \n",
        "    filhos = np.vstack([filho1,filho2])\n",
        "    return filhos\n"
      ],
      "metadata": {
        "id": "xHPUE6yhrsPE"
      },
      "execution_count": 5,
      "outputs": []
    },
    {
      "cell_type": "markdown",
      "source": [
        "# Mutações, e dupla mutação"
      ],
      "metadata": {
        "id": "UwLHwKYbiOzW"
      }
    },
    {
      "cell_type": "code",
      "source": [
        "#Mutações\n",
        "def Mutacao(child, Mutacao_prob=.60): #probabilidade de mutação de 80% para dar mais diversividade ao modelo mas sem mutação dupla\n",
        "      p = random.random()\n",
        "      if(p > Mutacao_prob):\n",
        "        ind = np.random.choice(len(child), 4, replace=False)\n",
        "        temp = child[ind[0]]\n",
        "        child[ind[0]] = child[ind[1]]\n",
        "        child[ind[1]] = temp\n",
        "        return child       \n",
        "\n",
        "      else:\n",
        "        return child\n",
        "\n",
        "def MutacaoDupla(child, Mutacao_prob=.60): #probabilidade de mutação de 80% para dar mais diversividade ao modelo, e tem a chance de ocorrer mutação dupla.\n",
        "      p = random.random()\n",
        "      if(p > Mutacao_prob):\n",
        "        ind = np.random.choice(len(child), 4, replace=False)\n",
        "        temp = child[ind[0]]\n",
        "        child[ind[0]] = child[ind[1]]\n",
        "        child[ind[1]] = temp\n",
        "        \n",
        "        if (p > 0.7): #Mutação dupla, 0.2% de chance\n",
        "          temp2 = child[ind[2]]\n",
        "          child[ind[2]] = child[ind[3]]\n",
        "          child[ind[3]] = temp2\n",
        "          \n",
        "      return child       \n",
        "\n"
      ],
      "metadata": {
        "id": "FZ_n48YSiNAx"
      },
      "execution_count": 72,
      "outputs": []
    },
    {
      "cell_type": "markdown",
      "source": [
        "#Seleção dos melhores pais da população e função de imprimir tabuleiro"
      ],
      "metadata": {
        "id": "jhjnlk_yVAyg"
      }
    },
    {
      "cell_type": "code",
      "source": [
        "#Avaliação, checa fitness\n",
        "def selecao_ranking(pop, new_pop):\n",
        "    pop = pop[pop[:,n].argsort()][0:new_pop, :] #retorna uma lista com a população ordenada pelo fitting score\n",
        "    return pop \n",
        "\n",
        "def selecao_aleatoria(pop, new_pop):\n",
        "    pai_aleatorio = random.randint(0, new_pop/2)\n",
        "    pai_aleatorio2 = random.randint(0, new_pop/2)\n",
        "    return pop[pai_aleatorio],pop[pai_aleatorio2] # 2 pais aleatórios da metade da população. \n",
        "\n",
        "def lista_probabilidade(pop):\n",
        "    fitness = pop[n]\n",
        "    total_fit = float(sum(fitness))\n",
        "    relative_fitness = [f/total_fit for f in fitness]\n",
        "    probabilities = [sum(relative_fitness[:i+1]) \n",
        "                     for i in range(len(relative_fitness))]\n",
        "    return probabilities\n",
        "\n",
        "def selecao_roleta(pop, probabilities, new_pop):\n",
        "    chosen = []\n",
        "    for n in range(new_pop):\n",
        "        r = random.random()\n",
        "        for (i, individual) in enumerate(pop):\n",
        "            if r <= probabilities[i]:\n",
        "                chosen.append(list(individual))\n",
        "                break\n",
        "    return chosen\n",
        "\n",
        "def tabuleiro(pop, n): # Desenha o tabuleiro\n",
        "    tabuleiro = np.zeros((n,n,3))\n",
        "    tabuleiro += 0.5 # Inicializa o tabuleiro com cor preta em todas as casas da matriz\n",
        "    tabuleiro[::2, ::2] = 1 # Cor branca\n",
        "    tabuleiro[1::2, 1::2] = 1 # Cor branca restantes\n",
        "\n",
        "    positions = pop[0,:n] # A melhor população\n",
        "\n",
        "    fig, ax = plt.subplots()\n",
        "    ax.imshow(tabuleiro, interpolation='nearest')\n",
        "\n",
        "    for y, x in enumerate(positions):\n",
        "        ax.text(x, y, u'\\u2655', size=15, ha='center', va='center')\n",
        "\n",
        "    ax.set(xticks=[], yticks=[])\n",
        "    ax.axis('image')\n",
        "    \n",
        "    plt.show()"
      ],
      "metadata": {
        "id": "ULoh4cNxU_24"
      },
      "execution_count": 66,
      "outputs": []
    },
    {
      "cell_type": "markdown",
      "source": [
        "#Inicialização e looping (Exemplo com gerações)\n",
        "\n",
        "# Alterações possíveis no código\n",
        "1.   Escolher tipo de seleção: selecao_aleatoria, selecao_ranking\n",
        "2.   Crossover: crossoverX / crossover2X\n",
        "3.   Mutação: Mutacao / MutacaoDupla\n",
        "\n"
      ],
      "metadata": {
        "id": "2CqhQrpmU6UG"
      }
    },
    {
      "cell_type": "markdown",
      "source": [
        "# Início do G.A (Crossover entre os 2 melhores pais) "
      ],
      "metadata": {
        "id": "z-EMhQ_WWxm4"
      }
    },
    {
      "cell_type": "code",
      "source": [
        "import sys\n",
        "import random\n",
        "import numpy as np \n",
        "import matplotlib.pyplot as plt\n",
        "\n",
        "#Roteiro para criação do algoritmo genético\n",
        "\n",
        "#Representação\n",
        "#Inicialização\n",
        "#Avaliação\n",
        "#Loop\n",
        "#Seleção\n",
        "#Cruzamento\n",
        "#Mutação\n",
        "#Avaliação\n",
        "#Reinserção\n",
        "\n",
        "#Representação por exemplo: 8 rainhas, [1 4 3 6 2 7 5 0]\n",
        "\n",
        "# Nesse caso a fitness = número de rainhas se conflitando.  \n",
        "\"\"\" \n",
        "    k = 0, j = 2\n",
        "    0 - 2 = 2 \n",
        "    x[k] - x[j]\n",
        "    1 - 3 = 2\n",
        "    colide diagonal += 1\n",
        "\n",
        "    k = 1, j = 2\n",
        "    1 - 2 = 1\n",
        "    x[k] - x[j]\n",
        "    4 - 3 = 1\n",
        "    colide diagonal += 1\n",
        "\n",
        "    k = 1, j = 3 \n",
        "    1 - 3 = 2\n",
        "    x[k] = 4, x[j] = 6\n",
        "    4 - 6 = 2\n",
        "    colide diagonal += 1\n",
        "\n",
        "    fitness score = 3 nesse indivíduo.\n",
        "\n",
        "   0 1 2 3 4 5 6 7 \n",
        "0 [0 0 0 0 0 0 0 X ] \n",
        "1 [X 0 0 0 0 0 0 0 ]\n",
        "2 [0 0 0 0 X 0 0 0 ]\n",
        "3 [0 0 X 0 0 0 0 0 ]\n",
        "4 [0 X 0 0 0 0 0 0 ]\n",
        "5 [0 0 0 0 0 0 X 0 ]\n",
        "6 [0 0 0 X 0 0 0 0 ]\n",
        "7 [0 0 0 0 0 X 0 0 ]\n",
        "\"\"\"\n",
        "#Inicialização\n",
        "#n = int(input(\"Digite o número de rainhas: \"))\n",
        "#new_pop = int(input(\"Número da população: \"))\n",
        "n = 24\n",
        "new_pop = 200\n",
        "generation = 0\n",
        "\n",
        "pop = np.zeros([new_pop,n],dtype=int)\n",
        "IndAleatorio = np.zeros(n)\n",
        "\n",
        "for i in range(new_pop):\n",
        "    pop[i, :] = np.random.permutation(n) #Inicialização da população com permutações dos númeoros de 0 até n.\n",
        "\n",
        "  \n",
        "fit = fitnessScore(pop,new_pop) # calcula de todos da população atual\n",
        "\n",
        "pop = np.hstack([pop,fit]) # adiciona na ultima linha os valores de fitness de cada indivíduo da população.\n",
        "\n",
        "pop = pop[pop[:,n].argsort()][0:new_pop, :] # Retorna a população ordenada pelo fitting \n",
        "\n",
        "#Loop\n",
        "while(pop[0][n] != 0):\n",
        "    generation+=1\n",
        "    #print(\"Geração: \", generation, \"\\nMelhor indivíduo: \", pop[0], \"Nº de conflitos: \", pop[0,n])\n",
        "    \n",
        "    if(generation > 500): # Tentativa de recomeço aleatório, adiciona um indivíduo aleatório no final para fugir de ótimo local.\n",
        "       IndAleatorio = np.random.permutation(n)\n",
        "       fit = fitnessScore(IndAleatorio, 1)\n",
        "       IndAleatorio = np.hstack([IndAleatorio,fit])\n",
        "       pop[-1] = IndAleatorio # Reinserção \n",
        "\n",
        "    #probability = lista_probabilidade(pop)\n",
        "    #pais = selecao_roleta(pop, probability,new_pop) #Seleção dos pais, selecao_ranking ou selecao_aleatoria pode ser utilizado\n",
        "    pais = selecao_ranking(pop, new_pop)\n",
        "    filhos = crossover2X(pais[0], pais[1]) # Crossover, crossoverX ou crossover2x pode ser utilizado, mudar função de mutação dentro dele.\n",
        "    fit_filhos = fitnessScore(filhos,2)\n",
        "\n",
        "    filhos = np.hstack([filhos,fit_filhos])\n",
        "\n",
        "    pop = np.vstack([pop,filhos]) # Reinserção\n",
        "\n",
        "    pop = pop[pop[:,n].argsort()][0:new_pop, :] # Atualiza pop pegando os melhores individuos\n",
        "\n",
        "    if generation > 9999:\n",
        "      break\n",
        "\n",
        "print(\"Número de rainhas: \", n)\n",
        "print(\"Número de gerações: \", generation)\n",
        "print(\"Melhor solução: \", pop[0, 0:n])\n",
        "print(\"Número de conflitos: \", pop[0][n])\n",
        "tabuleiro(pop, n) #figura\n"
      ],
      "metadata": {
        "colab": {
          "base_uri": "https://localhost:8080/",
          "height": 324
        },
        "id": "eNQDgVh7pNOt",
        "outputId": "a97f166c-cc29-4e5b-e595-152df149ed8d"
      },
      "execution_count": 92,
      "outputs": [
        {
          "output_type": "stream",
          "name": "stdout",
          "text": [
            "Número de rainhas:  24\n",
            "Número de gerações:  10000\n",
            "Melhor solução:  [14 22  1 19  4 23  9  2 12 20 16 13 18  0  5  3 17 10  7 21  6 11  8 15]\n",
            "Número de conflitos:  10\n"
          ]
        },
        {
          "output_type": "display_data",
          "data": {
            "text/plain": [
              "<Figure size 432x288 with 1 Axes>"
            ],
            "image/png": "[encoded data removed]"
          },
          "metadata": {}
        }
      ]
    },
    {
      "cell_type": "markdown",
      "source": [
        "# A.G Com crossover de vários pais gerando vários filhos para serem avaliados"
      ],
      "metadata": {
        "id": "2PAiz_1JfYK-"
      }
    },
    {
      "cell_type": "code",
      "source": [
        "import sys\n",
        "import random\n",
        "import numpy as np \n",
        "import matplotlib.pyplot as plt\n",
        "\n",
        "#Roteiro para criação do algoritmo genético\n",
        "\n",
        "#Representação\n",
        "#Inicialização\n",
        "#Avaliação\n",
        "#Loop\n",
        "#Seleção\n",
        "#Cruzamento\n",
        "#Mutação\n",
        "#Avaliação\n",
        "#Reinserção\n",
        "\n",
        "#Representação por exemplo: 8 rainhas, [1 4 3 6 2 7 5 0]\n",
        "\n",
        "# Nesse caso a fitness = número de rainhas se conflitando.  \n",
        "\"\"\" \n",
        "    k = 0, j = 2\n",
        "    0 - 2 = 2 \n",
        "    x[k] - x[j]\n",
        "    1 - 3 = 2\n",
        "    colide diagonal += 1\n",
        "\n",
        "    k = 1, j = 2\n",
        "    1 - 2 = 1\n",
        "    x[k] - x[j]\n",
        "    4 - 3 = 1\n",
        "    colide diagonal += 1\n",
        "\n",
        "    k = 1, j = 3 \n",
        "    1 - 3 = 2\n",
        "    x[k] = 4, x[j] = 6\n",
        "    4 - 6 = 2\n",
        "    colide diagonal += 1\n",
        "\n",
        "    fitness score = 3 nesse indivíduo.\n",
        "\n",
        "   0 1 2 3 4 5 6 7 \n",
        "0 [0 0 0 0 0 0 0 X ] \n",
        "1 [X 0 0 0 0 0 0 0 ]\n",
        "2 [0 0 0 0 X 0 0 0 ]\n",
        "3 [0 0 X 0 0 0 0 0 ]\n",
        "4 [0 X 0 0 0 0 0 0 ]\n",
        "5 [0 0 0 0 0 0 X 0 ]\n",
        "6 [0 0 0 X 0 0 0 0 ]\n",
        "7 [0 0 0 0 0 X 0 0 ]\n",
        "\"\"\"\n",
        "#Inicialização\n",
        "#n = int(input(\"Digite o número de rainhas: \"))\n",
        "#new_pop = int(input(\"Número da população: \"))\n",
        "n = 100\n",
        "new_pop = 200\n",
        "generation = 0\n",
        "\n",
        "pop = np.zeros([new_pop,n],dtype=int)\n",
        "IndAleatorio = np.zeros([new_pop,n],dtype=int)\n",
        "\n",
        "for i in range(new_pop):\n",
        "    pop[i, :] = np.random.permutation(n) #Inicialização da população com permutações dos númeoros de 0 até n.\n",
        "\n",
        "  \n",
        "fit = fitnessScore(pop,new_pop) # calcula de todos da população atual\n",
        "\n",
        "pop = np.hstack([pop,fit]) # adiciona na ultima linha os valores de fitness de cada indivíduo da população.\n",
        "\n",
        "pop = pop[pop[:,n].argsort()][0:new_pop, :] # Retorna a população ordenada pelo fitting \n",
        "\n",
        "#Loop\n",
        "while(pop[0][n] != 0):\n",
        "    generation+=1\n",
        "    if generation % 1000 == 0:\n",
        "      print(\"Geração: \", generation, \"\\nMelhor indivíduo: \", pop[0], \"Nº de conflitos: \", pop[0,n])\n",
        "    \n",
        "    if(generation > 500): # Tentativa de recomeço aleatório, adiciona um indivíduo aleatório no final para fugir de ótimo local.\n",
        "       IndAleatorio = np.random.permutation(n)\n",
        "       fit = fitnessScore(IndAleatorio, 1)\n",
        "       IndAleatorio = np.hstack([IndAleatorio,fit])\n",
        "       pop[-1] = IndAleatorio # Reinserção \n",
        "\n",
        "\n",
        "    #probability = lista_probabilidade(pop)\n",
        "    #pais = selecao_roleta(pop, probability, new_pop)\n",
        "    pais = selecao_ranking(pop, new_pop)\n",
        "    \n",
        "    for i in range(int(len(pais)/2)): #Crossover com metade dos pais da população\n",
        "      filhos = crossoverX(pais[i],pais[i+1]) #Crossover e mutação\n",
        "      \n",
        "    fit_filhos = fitnessScore(filhos,len(filhos)) \n",
        "    filhos = np.hstack([filhos,fit_filhos])\n",
        "\n",
        "    pop = np.vstack([pop,filhos]) # Reinserção\n",
        "    pop = pop[pop[:,n].argsort()][0:new_pop, :] # Atualiza pop pegando os \"tamanho da população\" melhores individuos, reinserção \n",
        "\n",
        "    if generation > 9999:\n",
        "      break\n",
        "\n",
        "print(\"Número de rainhas: \", n)\n",
        "print(\"Número de gerações: \", generation)\n",
        "print(\"Melhor solução: \", pop[0, 0:n])\n",
        "print(\"Número de conflitos: \", pop[0][n])\n",
        "tabuleiro(pop, n) #figura\n",
        "\n",
        "#Seleção\n",
        "\n",
        "#Avaliação\n",
        "\n",
        "#Reinserção\n",
        "\n"
      ],
      "metadata": {
        "colab": {
          "base_uri": "https://localhost:8080/"
        },
        "id": "Ee2NMvzFSowA",
        "outputId": "745b7884-2fa9-4b03-bd55-a400872b0dd9"
      },
      "execution_count": null,
      "outputs": [
        {
          "output_type": "stream",
          "name": "stdout",
          "text": [
            "Geração:  1000 \n",
            "Melhor indivíduo:  [96 21 49 83 37 10 76 23 46 70  7 60 17 57 48 52 55 16 72 44 11 34  4 95\n",
            " 14 84  1 85 86 32 58 18 43 71 35 61 38 87 78 41 33 31  5 93 65 28 97 30\n",
            " 94  2 56 50 89  0 39 42 22 62 82 63 77 15  6 67 36 25 79 81 47 51 92 74\n",
            " 24 98 59 26  9 66 69 40 90 53 88 12 73 68 80  3 19 75  8 64 29 91 13 54\n",
            " 27 45 20 99 86] Nº de conflitos:  86\n",
            "Geração:  2000 \n",
            "Melhor indivíduo:  [96 21 49 83 37 10 76 23 46 70  7 60 17 57 48 52 55 16 72 44 11 34  4 95\n",
            " 14 84  1 85 86 32 58 18 43 71 35 61 38 87 78 41 33 31  5 93 65 28 97 30\n",
            " 94  2 56 50 89  0 39 42 22 62 82 63 77 15  6 67 36 25 79 81 47 51 92 74\n",
            " 24 98 59 26  9 66 69 40 90 53 88 12 73 68 80  3 19 75  8 64 29 91 13 54\n",
            " 27 45 20 99 86] Nº de conflitos:  86\n",
            "Geração:  3000 \n",
            "Melhor indivíduo:  [96 21 49 83 37 10 76 23 46 70  7 60 17 57 48 52 55 16 72 44 11 34  4 95\n",
            " 14 84  1 85 86 32 58 18 43 71 35 61 38 87 78 41 33 31  5 93 65 28 97 30\n",
            " 94  2 56 50 89  0 39 42 22 62 82 63 77 15  6 67 36 25 79 81 47 51 92 74\n",
            " 24 98 59 26  9 66 69 40 90 53 88 12 73 68 80  3 19 75  8 64 29 91 13 54\n",
            " 27 45 20 99 86] Nº de conflitos:  86\n",
            "Geração:  4000 \n",
            "Melhor indivíduo:  [96 21 49 83 37 10 76 23 46 70  7 60 17 57 48 52 55 16 72 44 11 34  4 95\n",
            " 14 84  1 85 86 32 58 18 43 71 35 61 38 87 78 41 33 31  5 93 65 28 97 30\n",
            " 94  2 56 50 89  0 39 42 22 62 82 63 77 15  6 67 36 25 79 81 47 51 92 74\n",
            " 24 98 59 26  9 66 69 40 90 53 88 12 73 68 80  3 19 75  8 64 29 91 13 54\n",
            " 27 45 20 99 86] Nº de conflitos:  86\n",
            "Geração:  5000 \n",
            "Melhor indivíduo:  [96 21 49 83 37 10 76 23 46 70  7 60 17 57 48 52 55 16 72 44 11 34  4 95\n",
            " 14 84  1 85 86 32 58 18 43 71 35 61 38 87 78 41 33 31  5 93 65 28 97 30\n",
            " 94  2 56 50 89  0 39 42 22 62 82 63 77 15  6 67 36 25 79 81 47 51 92 74\n",
            " 24 98 59 26  9 66 69 40 90 53 88 12 73 68 80  3 19 75  8 64 29 91 13 54\n",
            " 27 45 20 99 86] Nº de conflitos:  86\n"
          ]
        }
      ]
    },
    {
      "cell_type": "code",
      "source": [],
      "metadata": {
        "colab": {
          "base_uri": "https://localhost:8080/"
        },
        "id": "Y5J3U3xfj7Xt",
        "outputId": "131c1eb3-7462-4901-f8ad-d3851178214b"
      },
      "execution_count": 83,
      "outputs": [
        {
          "output_type": "execute_result",
          "data": {
            "text/plain": [
              "(2, 24)"
            ]
          },
          "metadata": {},
          "execution_count": 83
        }
      ]
    },
    {
      "cell_type": "markdown",
      "source": [],
      "metadata": {
        "id": "WMrds5EBfQwR"
      }
    }
  ]
}